{
  "nbformat": 4,
  "nbformat_minor": 0,
  "metadata": {
    "colab": {
      "name": "Assignment1.ipynb",
      "provenance": []
    },
    "kernelspec": {
      "name": "python3",
      "display_name": "Python 3"
    }
  },
  "cells": [
    {
      "cell_type": "markdown",
      "metadata": {
        "id": "Eo5m1UkwfS05",
        "colab_type": "text"
      },
      "source": [
        "1.Write a function that inputs a number and prints the multiplication table of that number"
      ]
    },
    {
      "cell_type": "code",
      "metadata": {
        "id": "GBHgACn2fXal",
        "colab_type": "code",
        "outputId": "f666df65-fb1b-4394-e0f5-6d14a90b4609",
        "colab": {
          "base_uri": "https://localhost:8080/",
          "height": 200
        }
      },
      "source": [
        "def Mul_Table(n):\n",
        "  i=1\n",
        "  while(i<=10):\n",
        "    print(\"{}*{}={}\".format(n,i,n*i))\n",
        "    i=i+1\n",
        "n=int(input('Enter a Number:'))\n",
        "Mul_Table(n)"
      ],
      "execution_count": 0,
      "outputs": [
        {
          "output_type": "stream",
          "text": [
            "Enter a Number:3\n",
            "3*1=3\n",
            "3*2=6\n",
            "3*3=9\n",
            "3*4=12\n",
            "3*5=15\n",
            "3*6=18\n",
            "3*7=21\n",
            "3*8=24\n",
            "3*9=27\n",
            "3*10=30\n"
          ],
          "name": "stdout"
        }
      ]
    },
    {
      "cell_type": "markdown",
      "metadata": {
        "id": "69clekwGhlcQ",
        "colab_type": "text"
      },
      "source": [
        "2.Write a program to print twin primes less than 1000. If two consecutive odd numbers are\n",
        "both prime then they are known as twin primes"
      ]
    },
    {
      "cell_type": "code",
      "metadata": {
        "id": "9BFGvoeagMhb",
        "colab_type": "code",
        "outputId": "7ebbac0a-85bb-45c4-b1d0-1a67663dc227",
        "colab": {
          "base_uri": "https://localhost:8080/",
          "height": 600
        }
      },
      "source": [
        "def Is_prime(n):\n",
        "  for i in range(2,n):\n",
        "    if n%i==0:\n",
        "      return False\n",
        "  return True\n",
        "def Twin_primes():\n",
        "  n=1000\n",
        "  for i in range(2,n):\n",
        "    j=i+2\n",
        "    if Is_prime(i) and Is_prime(j):\n",
        "      print(\"{} and {}\".format(i,j))\n",
        "Twin_primes()  \n",
        "\n",
        "  \n",
        "\n",
        "          \n",
        "\n",
        "        \n",
        "\n",
        "\n",
        "\n"
      ],
      "execution_count": 0,
      "outputs": [
        {
          "output_type": "stream",
          "text": [
            "3 and 5\n",
            "5 and 7\n",
            "11 and 13\n",
            "17 and 19\n",
            "29 and 31\n",
            "41 and 43\n",
            "59 and 61\n",
            "71 and 73\n",
            "101 and 103\n",
            "107 and 109\n",
            "137 and 139\n",
            "149 and 151\n",
            "179 and 181\n",
            "191 and 193\n",
            "197 and 199\n",
            "227 and 229\n",
            "239 and 241\n",
            "269 and 271\n",
            "281 and 283\n",
            "311 and 313\n",
            "347 and 349\n",
            "419 and 421\n",
            "431 and 433\n",
            "461 and 463\n",
            "521 and 523\n",
            "569 and 571\n",
            "599 and 601\n",
            "617 and 619\n",
            "641 and 643\n",
            "659 and 661\n",
            "809 and 811\n",
            "821 and 823\n",
            "827 and 829\n",
            "857 and 859\n",
            "881 and 883\n"
          ],
          "name": "stdout"
        }
      ]
    },
    {
      "cell_type": "markdown",
      "metadata": {
        "id": "sHtqD9mii5mV",
        "colab_type": "text"
      },
      "source": [
        "3.Write a program to find out the prime factors of a number. Example: prime factors of 56 -\n",
        "2, 2, 2, 7"
      ]
    },
    {
      "cell_type": "code",
      "metadata": {
        "id": "2SrXY6KYi8Zj",
        "colab_type": "code",
        "outputId": "c18e885c-75be-4798-8226-d527951f65e8",
        "colab": {
          "base_uri": "https://localhost:8080/",
          "height": 54
        }
      },
      "source": [
        "def Is_prime(n):\n",
        "  for i in range(2,n):\n",
        "    if n%i==0:\n",
        "      return False\n",
        "  return True\n",
        "def Prime_factors(n):\n",
        "  factors=[]\n",
        "  div=n\n",
        "  while div!=1:\n",
        "    for i in range(2,div+1):\n",
        "      if div%i==0:\n",
        "        if Is_prime(i):\n",
        "          div=int(div/i)\n",
        "          factors.append(i)\n",
        "  return factors\n",
        "n=int(input('Enter a number:'))\n",
        "prime_fact=Prime_factors(n)\n",
        "print('prime factor of {} is {}'.format(n,prime_fact))\n",
        "\n",
        "\n"
      ],
      "execution_count": 0,
      "outputs": [
        {
          "output_type": "stream",
          "text": [
            "Enter a number:56\n",
            "prime factor of 56 is [2, 7, 2, 2]\n"
          ],
          "name": "stdout"
        }
      ]
    },
    {
      "cell_type": "markdown",
      "metadata": {
        "id": "N1BUbYNBsZWj",
        "colab_type": "text"
      },
      "source": [
        "4.Write a program to implement these formulae of permutations and combinations.\n",
        "Number of permutations of n objects taken r at a time: p(n, r) = n! / (n-r)!. Number of\n",
        "combinations of n objects taken r at a time is: c(n, r) = n! / (r!*(n-r)!) = p(n,r) / r!"
      ]
    },
    {
      "cell_type": "code",
      "metadata": {
        "id": "rI_6aVZ8sb4r",
        "colab_type": "code",
        "outputId": "850df21a-a743-4f01-e5f5-41a4c43c5265",
        "colab": {
          "base_uri": "https://localhost:8080/",
          "height": 72
        }
      },
      "source": [
        "def Fact(n):\n",
        "  if n==0 or n==1:\n",
        "    return 1\n",
        "  else:\n",
        "    return n*Fact(n-1)\n",
        "def Permutation(n,r):\n",
        "    perm1=Fact(n)\n",
        "    perm2=Fact(n-r)\n",
        "    perm3=perm1/perm2\n",
        "    return perm3\n",
        "def Combination(n,r):\n",
        "  comb1=Permutation(n,r)\n",
        "  comb2=Fact(r)\n",
        "  comb3=comb1/comb2\n",
        "  return comb3\n",
        "n=int(input('Enter the Number n:'))\n",
        "r=int(input('Enter the Number r:'))\n",
        "perm=Permutation(n,r)\n",
        "comb=Combination(n,r)\n",
        "print(\"permutation is {},and combination is {}\".format(perm,comb))"
      ],
      "execution_count": 0,
      "outputs": [
        {
          "output_type": "stream",
          "text": [
            "Enter the Number n:5\n",
            "Enter the Number r:2\n",
            "permutation is 20.0,and combination is 10.0\n"
          ],
          "name": "stdout"
        }
      ]
    },
    {
      "cell_type": "markdown",
      "metadata": {
        "id": "TZZdD9pu15cT",
        "colab_type": "text"
      },
      "source": [
        "5.Write a function that converts a decimal number to binary number"
      ]
    },
    {
      "cell_type": "code",
      "metadata": {
        "id": "C_STGMg0powM",
        "colab_type": "code",
        "outputId": "d27c1075-ea74-4314-c00d-be87ab3acea6",
        "colab": {
          "base_uri": "https://localhost:8080/",
          "height": 54
        }
      },
      "source": [
        "def dec_bin(n):\n",
        "  if n>1:\n",
        "    dec_bin(n//2)\n",
        "  print(n%2,end='')\n",
        "n=int(input('Enter the decimal number:'))\n",
        "dec_bin(n)\n",
        "  \n",
        "\n",
        "\n"
      ],
      "execution_count": 0,
      "outputs": [
        {
          "output_type": "stream",
          "text": [
            "Enter the decimal number:110\n",
            "1101110"
          ],
          "name": "stdout"
        }
      ]
    },
    {
      "cell_type": "markdown",
      "metadata": {
        "id": "VDsRBpLK5YDH",
        "colab_type": "text"
      },
      "source": [
        "6.Write a function cubesum() that accepts an integer and returns the sum of the cubes of individual digits of that number. Use this function to make functions PrintArmstrong() and isArmstrong() to print Armstrong numbers and to find whether is an Armstrong number."
      ]
    },
    {
      "cell_type": "code",
      "metadata": {
        "id": "8YK6fKKv35vp",
        "colab_type": "code",
        "outputId": "c57e7432-6996-4732-ad5c-ae001db27a74",
        "colab": {
          "base_uri": "https://localhost:8080/",
          "height": 109
        }
      },
      "source": [
        "def cubesum(n):\n",
        "  sum=0\n",
        "  div=n\n",
        "  while(div>=1):\n",
        "    rem=div%10\n",
        "    div=int(div/10)\n",
        "    sum+=rem*rem*rem\n",
        "  return sum\n",
        "def isArmstrong(n):\n",
        "  if n==cubesum(n):\n",
        "    return True\n",
        "  else:\n",
        "    return False\n",
        "def PrintArmstrong(n):\n",
        "  if isArmstrong(n):\n",
        "    print(\"{} is a armstrong number\".format(n))\n",
        "  else:\n",
        "    print(\"{} is not a armstrong number\".formate(n))\n",
        "n=int(input('Enter the number:'))\n",
        "print(cubesum(n))\n",
        "print(isArmstrong(n))\n",
        "print(PrintArmstrong(n))\n"
      ],
      "execution_count": 0,
      "outputs": [
        {
          "output_type": "stream",
          "text": [
            "Enter the number:153\n",
            "153\n",
            "True\n",
            "153 is a armstrong number\n",
            "None\n"
          ],
          "name": "stdout"
        }
      ]
    },
    {
      "cell_type": "markdown",
      "metadata": {
        "id": "LYCoku846eLM",
        "colab_type": "text"
      },
      "source": [
        "7.Write a function prodDigits() that inputs a number and returns the product of digits of that number."
      ]
    },
    {
      "cell_type": "code",
      "metadata": {
        "id": "Vhsfz9yS6fBM",
        "colab_type": "code",
        "outputId": "1da8b8a7-be84-45e5-fddc-f3a4623e4767",
        "colab": {
          "base_uri": "https://localhost:8080/",
          "height": 54
        }
      },
      "source": [
        "def prodDigits(n):\n",
        "  prod=1\n",
        "  div=n\n",
        "  while(div>=1):\n",
        "    rem=div%10\n",
        "    prod*=rem\n",
        "    div=div//10\n",
        "  return prod\n",
        "n=int(input('Enter the number:'))\n",
        "product=prodDigits(n)\n",
        "print(\" product of {} digit is {}\".format(n,product))"
      ],
      "execution_count": 0,
      "outputs": [
        {
          "output_type": "stream",
          "text": [
            "Enter the number:123\n",
            " product of 123 digit is 6\n"
          ],
          "name": "stdout"
        }
      ]
    },
    {
      "cell_type": "markdown",
      "metadata": {
        "id": "sycIeia8DYGj",
        "colab_type": "text"
      },
      "source": [
        "8.If all digits of a number n are multiplied by each other repeating with the product, the one digit number obtained at last is called the multiplicative digital root of n. The number of times digits need to be multiplied to reach one digit is called the multiplicative persistance of n. "
      ]
    },
    {
      "cell_type": "code",
      "metadata": {
        "id": "ct8DM5unDMeO",
        "colab_type": "code",
        "outputId": "6680ba3d-4bd4-45f5-f9c9-e5a9c7bf8ca8",
        "colab": {
          "base_uri": "https://localhost:8080/",
          "height": 72
        }
      },
      "source": [
        "def MDR(n):\n",
        "  digit=n\n",
        "  while digit>=10:\n",
        "    print(digit,end='->')\n",
        "    digit=prodDigits(digit)\n",
        "  print(digit,end='')\n",
        "def Mpresistance(n):\n",
        "  digit=n\n",
        "  count=0\n",
        "  while digit>=10:\n",
        "   count+=1\n",
        "   digit=prodDigits(digit)\n",
        "  print(\"\\n Mpresistance is: {}\".format(count))\n",
        "\n",
        "n=int(input('Enter the number:'))\n",
        "MDR(n)\n",
        "Mpresistance(n)\n",
        "    "
      ],
      "execution_count": 0,
      "outputs": [
        {
          "output_type": "stream",
          "text": [
            "Enter the number:86\n",
            "86->48->32->6\n",
            " Mpresistance is: 3\n"
          ],
          "name": "stdout"
        }
      ]
    },
    {
      "cell_type": "markdown",
      "metadata": {
        "id": "SgqZNwZtH49v",
        "colab_type": "text"
      },
      "source": [
        "9.Write a function sumPdivisors() that finds the sum of proper divisors of a number. Proper divisors of a number are those numbers by which the number is divisible, except the number itself."
      ]
    },
    {
      "cell_type": "code",
      "metadata": {
        "id": "PfqkBYThH9Yr",
        "colab_type": "code",
        "outputId": "0c1398a0-b993-4395-ffbd-5871b29899dc",
        "colab": {
          "base_uri": "https://localhost:8080/",
          "height": 72
        }
      },
      "source": [
        "def sumPdivisors(n):\n",
        "  sum1=0\n",
        "  lst=[]\n",
        "  for i in range(1,n):\n",
        "    if n%i==0:\n",
        "      lst.append(i)\n",
        "      sum1+=i\n",
        "  #print(\"Proper divisors of {} are {}\".format(n,lst))\n",
        "  return sum1\n",
        "n=int(input('Enter number n:'))\n",
        "sum1=sumPdivisors(n)\n",
        "print(\"Sum of Proper divisors is {}\".format(sum1))"
      ],
      "execution_count": 0,
      "outputs": [
        {
          "output_type": "stream",
          "text": [
            "Enter number n:36\n",
            "Proper divisors of 36 are [1, 2, 3, 4, 6, 9, 12, 18]\n",
            "Sum of Proper divisors is 55\n"
          ],
          "name": "stdout"
        }
      ]
    },
    {
      "cell_type": "markdown",
      "metadata": {
        "id": "Af7NmhHFBCjB",
        "colab_type": "text"
      },
      "source": [
        "10.A number is called perfect if the sum of proper divisors of that number is equal to the number. For example 28 is perfect number, since 1+2+4+7+14=28. Write a program to print all the perfect numbers in a given range"
      ]
    },
    {
      "cell_type": "code",
      "metadata": {
        "id": "-xPMsr2TI2Jb",
        "colab_type": "code",
        "outputId": "42fb3f7a-e2d8-46a8-e4a6-9d9b38fd807b",
        "colab": {
          "base_uri": "https://localhost:8080/",
          "height": 72
        }
      },
      "source": [
        "def perfect_num(n):\n",
        "  sum1=sumPdivisors(n)\n",
        "  if sum1==n:\n",
        "    print(\"{} is a perfect Number\".format(n))\n",
        "  else:\n",
        "    print(\"{} is not a perfect Number\".format(n))\n",
        "n=int(input(\"Enter a number:\"))\n",
        "perfect_num(n)"
      ],
      "execution_count": 0,
      "outputs": [
        {
          "output_type": "stream",
          "text": [
            "Enter a number:28\n",
            "Proper divisors of 28 are [1, 2, 4, 7, 14]\n",
            "28 is a perfect Number\n"
          ],
          "name": "stdout"
        }
      ]
    },
    {
      "cell_type": "code",
      "metadata": {
        "id": "Ww_JTZUrJS64",
        "colab_type": "code",
        "outputId": "da93a9d1-9106-451b-ba58-a7638c6c6508",
        "colab": {
          "base_uri": "https://localhost:8080/",
          "height": 1000
        }
      },
      "source": [
        "def perfect_num(n):\n",
        "  lst=[]\n",
        "  for i in range(n):\n",
        "    sum1=sumPdivisors(i)\n",
        "    if sum1==i:\n",
        "      lst.append(i)\n",
        "  return lst\n",
        "\n",
        "n=int(input(\"Enter a number:\"))\n",
        "per_num=perfect_num(n) \n",
        "print(\"Perfect number in range of {} are {}\".format(n,per_num))\n"
      ],
      "execution_count": 0,
      "outputs": [
        {
          "output_type": "stream",
          "text": [
            "Enter a number:500\n",
            "Proper divisors of 0 are []\n",
            "Proper divisors of 1 are []\n",
            "Proper divisors of 2 are [1]\n",
            "Proper divisors of 3 are [1]\n",
            "Proper divisors of 4 are [1, 2]\n",
            "Proper divisors of 5 are [1]\n",
            "Proper divisors of 6 are [1, 2, 3]\n",
            "Proper divisors of 7 are [1]\n",
            "Proper divisors of 8 are [1, 2, 4]\n",
            "Proper divisors of 9 are [1, 3]\n",
            "Proper divisors of 10 are [1, 2, 5]\n",
            "Proper divisors of 11 are [1]\n",
            "Proper divisors of 12 are [1, 2, 3, 4, 6]\n",
            "Proper divisors of 13 are [1]\n",
            "Proper divisors of 14 are [1, 2, 7]\n",
            "Proper divisors of 15 are [1, 3, 5]\n",
            "Proper divisors of 16 are [1, 2, 4, 8]\n",
            "Proper divisors of 17 are [1]\n",
            "Proper divisors of 18 are [1, 2, 3, 6, 9]\n",
            "Proper divisors of 19 are [1]\n",
            "Proper divisors of 20 are [1, 2, 4, 5, 10]\n",
            "Proper divisors of 21 are [1, 3, 7]\n",
            "Proper divisors of 22 are [1, 2, 11]\n",
            "Proper divisors of 23 are [1]\n",
            "Proper divisors of 24 are [1, 2, 3, 4, 6, 8, 12]\n",
            "Proper divisors of 25 are [1, 5]\n",
            "Proper divisors of 26 are [1, 2, 13]\n",
            "Proper divisors of 27 are [1, 3, 9]\n",
            "Proper divisors of 28 are [1, 2, 4, 7, 14]\n",
            "Proper divisors of 29 are [1]\n",
            "Proper divisors of 30 are [1, 2, 3, 5, 6, 10, 15]\n",
            "Proper divisors of 31 are [1]\n",
            "Proper divisors of 32 are [1, 2, 4, 8, 16]\n",
            "Proper divisors of 33 are [1, 3, 11]\n",
            "Proper divisors of 34 are [1, 2, 17]\n",
            "Proper divisors of 35 are [1, 5, 7]\n",
            "Proper divisors of 36 are [1, 2, 3, 4, 6, 9, 12, 18]\n",
            "Proper divisors of 37 are [1]\n",
            "Proper divisors of 38 are [1, 2, 19]\n",
            "Proper divisors of 39 are [1, 3, 13]\n",
            "Proper divisors of 40 are [1, 2, 4, 5, 8, 10, 20]\n",
            "Proper divisors of 41 are [1]\n",
            "Proper divisors of 42 are [1, 2, 3, 6, 7, 14, 21]\n",
            "Proper divisors of 43 are [1]\n",
            "Proper divisors of 44 are [1, 2, 4, 11, 22]\n",
            "Proper divisors of 45 are [1, 3, 5, 9, 15]\n",
            "Proper divisors of 46 are [1, 2, 23]\n",
            "Proper divisors of 47 are [1]\n",
            "Proper divisors of 48 are [1, 2, 3, 4, 6, 8, 12, 16, 24]\n",
            "Proper divisors of 49 are [1, 7]\n",
            "Proper divisors of 50 are [1, 2, 5, 10, 25]\n",
            "Proper divisors of 51 are [1, 3, 17]\n",
            "Proper divisors of 52 are [1, 2, 4, 13, 26]\n",
            "Proper divisors of 53 are [1]\n",
            "Proper divisors of 54 are [1, 2, 3, 6, 9, 18, 27]\n",
            "Proper divisors of 55 are [1, 5, 11]\n",
            "Proper divisors of 56 are [1, 2, 4, 7, 8, 14, 28]\n",
            "Proper divisors of 57 are [1, 3, 19]\n",
            "Proper divisors of 58 are [1, 2, 29]\n",
            "Proper divisors of 59 are [1]\n",
            "Proper divisors of 60 are [1, 2, 3, 4, 5, 6, 10, 12, 15, 20, 30]\n",
            "Proper divisors of 61 are [1]\n",
            "Proper divisors of 62 are [1, 2, 31]\n",
            "Proper divisors of 63 are [1, 3, 7, 9, 21]\n",
            "Proper divisors of 64 are [1, 2, 4, 8, 16, 32]\n",
            "Proper divisors of 65 are [1, 5, 13]\n",
            "Proper divisors of 66 are [1, 2, 3, 6, 11, 22, 33]\n",
            "Proper divisors of 67 are [1]\n",
            "Proper divisors of 68 are [1, 2, 4, 17, 34]\n",
            "Proper divisors of 69 are [1, 3, 23]\n",
            "Proper divisors of 70 are [1, 2, 5, 7, 10, 14, 35]\n",
            "Proper divisors of 71 are [1]\n",
            "Proper divisors of 72 are [1, 2, 3, 4, 6, 8, 9, 12, 18, 24, 36]\n",
            "Proper divisors of 73 are [1]\n",
            "Proper divisors of 74 are [1, 2, 37]\n",
            "Proper divisors of 75 are [1, 3, 5, 15, 25]\n",
            "Proper divisors of 76 are [1, 2, 4, 19, 38]\n",
            "Proper divisors of 77 are [1, 7, 11]\n",
            "Proper divisors of 78 are [1, 2, 3, 6, 13, 26, 39]\n",
            "Proper divisors of 79 are [1]\n",
            "Proper divisors of 80 are [1, 2, 4, 5, 8, 10, 16, 20, 40]\n",
            "Proper divisors of 81 are [1, 3, 9, 27]\n",
            "Proper divisors of 82 are [1, 2, 41]\n",
            "Proper divisors of 83 are [1]\n",
            "Proper divisors of 84 are [1, 2, 3, 4, 6, 7, 12, 14, 21, 28, 42]\n",
            "Proper divisors of 85 are [1, 5, 17]\n",
            "Proper divisors of 86 are [1, 2, 43]\n",
            "Proper divisors of 87 are [1, 3, 29]\n",
            "Proper divisors of 88 are [1, 2, 4, 8, 11, 22, 44]\n",
            "Proper divisors of 89 are [1]\n",
            "Proper divisors of 90 are [1, 2, 3, 5, 6, 9, 10, 15, 18, 30, 45]\n",
            "Proper divisors of 91 are [1, 7, 13]\n",
            "Proper divisors of 92 are [1, 2, 4, 23, 46]\n",
            "Proper divisors of 93 are [1, 3, 31]\n",
            "Proper divisors of 94 are [1, 2, 47]\n",
            "Proper divisors of 95 are [1, 5, 19]\n",
            "Proper divisors of 96 are [1, 2, 3, 4, 6, 8, 12, 16, 24, 32, 48]\n",
            "Proper divisors of 97 are [1]\n",
            "Proper divisors of 98 are [1, 2, 7, 14, 49]\n",
            "Proper divisors of 99 are [1, 3, 9, 11, 33]\n",
            "Proper divisors of 100 are [1, 2, 4, 5, 10, 20, 25, 50]\n",
            "Proper divisors of 101 are [1]\n",
            "Proper divisors of 102 are [1, 2, 3, 6, 17, 34, 51]\n",
            "Proper divisors of 103 are [1]\n",
            "Proper divisors of 104 are [1, 2, 4, 8, 13, 26, 52]\n",
            "Proper divisors of 105 are [1, 3, 5, 7, 15, 21, 35]\n",
            "Proper divisors of 106 are [1, 2, 53]\n",
            "Proper divisors of 107 are [1]\n",
            "Proper divisors of 108 are [1, 2, 3, 4, 6, 9, 12, 18, 27, 36, 54]\n",
            "Proper divisors of 109 are [1]\n",
            "Proper divisors of 110 are [1, 2, 5, 10, 11, 22, 55]\n",
            "Proper divisors of 111 are [1, 3, 37]\n",
            "Proper divisors of 112 are [1, 2, 4, 7, 8, 14, 16, 28, 56]\n",
            "Proper divisors of 113 are [1]\n",
            "Proper divisors of 114 are [1, 2, 3, 6, 19, 38, 57]\n",
            "Proper divisors of 115 are [1, 5, 23]\n",
            "Proper divisors of 116 are [1, 2, 4, 29, 58]\n",
            "Proper divisors of 117 are [1, 3, 9, 13, 39]\n",
            "Proper divisors of 118 are [1, 2, 59]\n",
            "Proper divisors of 119 are [1, 7, 17]\n",
            "Proper divisors of 120 are [1, 2, 3, 4, 5, 6, 8, 10, 12, 15, 20, 24, 30, 40, 60]\n",
            "Proper divisors of 121 are [1, 11]\n",
            "Proper divisors of 122 are [1, 2, 61]\n",
            "Proper divisors of 123 are [1, 3, 41]\n",
            "Proper divisors of 124 are [1, 2, 4, 31, 62]\n",
            "Proper divisors of 125 are [1, 5, 25]\n",
            "Proper divisors of 126 are [1, 2, 3, 6, 7, 9, 14, 18, 21, 42, 63]\n",
            "Proper divisors of 127 are [1]\n",
            "Proper divisors of 128 are [1, 2, 4, 8, 16, 32, 64]\n",
            "Proper divisors of 129 are [1, 3, 43]\n",
            "Proper divisors of 130 are [1, 2, 5, 10, 13, 26, 65]\n",
            "Proper divisors of 131 are [1]\n",
            "Proper divisors of 132 are [1, 2, 3, 4, 6, 11, 12, 22, 33, 44, 66]\n",
            "Proper divisors of 133 are [1, 7, 19]\n",
            "Proper divisors of 134 are [1, 2, 67]\n",
            "Proper divisors of 135 are [1, 3, 5, 9, 15, 27, 45]\n",
            "Proper divisors of 136 are [1, 2, 4, 8, 17, 34, 68]\n",
            "Proper divisors of 137 are [1]\n",
            "Proper divisors of 138 are [1, 2, 3, 6, 23, 46, 69]\n",
            "Proper divisors of 139 are [1]\n",
            "Proper divisors of 140 are [1, 2, 4, 5, 7, 10, 14, 20, 28, 35, 70]\n",
            "Proper divisors of 141 are [1, 3, 47]\n",
            "Proper divisors of 142 are [1, 2, 71]\n",
            "Proper divisors of 143 are [1, 11, 13]\n",
            "Proper divisors of 144 are [1, 2, 3, 4, 6, 8, 9, 12, 16, 18, 24, 36, 48, 72]\n",
            "Proper divisors of 145 are [1, 5, 29]\n",
            "Proper divisors of 146 are [1, 2, 73]\n",
            "Proper divisors of 147 are [1, 3, 7, 21, 49]\n",
            "Proper divisors of 148 are [1, 2, 4, 37, 74]\n",
            "Proper divisors of 149 are [1]\n",
            "Proper divisors of 150 are [1, 2, 3, 5, 6, 10, 15, 25, 30, 50, 75]\n",
            "Proper divisors of 151 are [1]\n",
            "Proper divisors of 152 are [1, 2, 4, 8, 19, 38, 76]\n",
            "Proper divisors of 153 are [1, 3, 9, 17, 51]\n",
            "Proper divisors of 154 are [1, 2, 7, 11, 14, 22, 77]\n",
            "Proper divisors of 155 are [1, 5, 31]\n",
            "Proper divisors of 156 are [1, 2, 3, 4, 6, 12, 13, 26, 39, 52, 78]\n",
            "Proper divisors of 157 are [1]\n",
            "Proper divisors of 158 are [1, 2, 79]\n",
            "Proper divisors of 159 are [1, 3, 53]\n",
            "Proper divisors of 160 are [1, 2, 4, 5, 8, 10, 16, 20, 32, 40, 80]\n",
            "Proper divisors of 161 are [1, 7, 23]\n",
            "Proper divisors of 162 are [1, 2, 3, 6, 9, 18, 27, 54, 81]\n",
            "Proper divisors of 163 are [1]\n",
            "Proper divisors of 164 are [1, 2, 4, 41, 82]\n",
            "Proper divisors of 165 are [1, 3, 5, 11, 15, 33, 55]\n",
            "Proper divisors of 166 are [1, 2, 83]\n",
            "Proper divisors of 167 are [1]\n",
            "Proper divisors of 168 are [1, 2, 3, 4, 6, 7, 8, 12, 14, 21, 24, 28, 42, 56, 84]\n",
            "Proper divisors of 169 are [1, 13]\n",
            "Proper divisors of 170 are [1, 2, 5, 10, 17, 34, 85]\n",
            "Proper divisors of 171 are [1, 3, 9, 19, 57]\n",
            "Proper divisors of 172 are [1, 2, 4, 43, 86]\n",
            "Proper divisors of 173 are [1]\n",
            "Proper divisors of 174 are [1, 2, 3, 6, 29, 58, 87]\n",
            "Proper divisors of 175 are [1, 5, 7, 25, 35]\n",
            "Proper divisors of 176 are [1, 2, 4, 8, 11, 16, 22, 44, 88]\n",
            "Proper divisors of 177 are [1, 3, 59]\n",
            "Proper divisors of 178 are [1, 2, 89]\n",
            "Proper divisors of 179 are [1]\n",
            "Proper divisors of 180 are [1, 2, 3, 4, 5, 6, 9, 10, 12, 15, 18, 20, 30, 36, 45, 60, 90]\n",
            "Proper divisors of 181 are [1]\n",
            "Proper divisors of 182 are [1, 2, 7, 13, 14, 26, 91]\n",
            "Proper divisors of 183 are [1, 3, 61]\n",
            "Proper divisors of 184 are [1, 2, 4, 8, 23, 46, 92]\n",
            "Proper divisors of 185 are [1, 5, 37]\n",
            "Proper divisors of 186 are [1, 2, 3, 6, 31, 62, 93]\n",
            "Proper divisors of 187 are [1, 11, 17]\n",
            "Proper divisors of 188 are [1, 2, 4, 47, 94]\n",
            "Proper divisors of 189 are [1, 3, 7, 9, 21, 27, 63]\n",
            "Proper divisors of 190 are [1, 2, 5, 10, 19, 38, 95]\n",
            "Proper divisors of 191 are [1]\n",
            "Proper divisors of 192 are [1, 2, 3, 4, 6, 8, 12, 16, 24, 32, 48, 64, 96]\n",
            "Proper divisors of 193 are [1]\n",
            "Proper divisors of 194 are [1, 2, 97]\n",
            "Proper divisors of 195 are [1, 3, 5, 13, 15, 39, 65]\n",
            "Proper divisors of 196 are [1, 2, 4, 7, 14, 28, 49, 98]\n",
            "Proper divisors of 197 are [1]\n",
            "Proper divisors of 198 are [1, 2, 3, 6, 9, 11, 18, 22, 33, 66, 99]\n",
            "Proper divisors of 199 are [1]\n",
            "Proper divisors of 200 are [1, 2, 4, 5, 8, 10, 20, 25, 40, 50, 100]\n",
            "Proper divisors of 201 are [1, 3, 67]\n",
            "Proper divisors of 202 are [1, 2, 101]\n",
            "Proper divisors of 203 are [1, 7, 29]\n",
            "Proper divisors of 204 are [1, 2, 3, 4, 6, 12, 17, 34, 51, 68, 102]\n",
            "Proper divisors of 205 are [1, 5, 41]\n",
            "Proper divisors of 206 are [1, 2, 103]\n",
            "Proper divisors of 207 are [1, 3, 9, 23, 69]\n",
            "Proper divisors of 208 are [1, 2, 4, 8, 13, 16, 26, 52, 104]\n",
            "Proper divisors of 209 are [1, 11, 19]\n",
            "Proper divisors of 210 are [1, 2, 3, 5, 6, 7, 10, 14, 15, 21, 30, 35, 42, 70, 105]\n",
            "Proper divisors of 211 are [1]\n",
            "Proper divisors of 212 are [1, 2, 4, 53, 106]\n",
            "Proper divisors of 213 are [1, 3, 71]\n",
            "Proper divisors of 214 are [1, 2, 107]\n",
            "Proper divisors of 215 are [1, 5, 43]\n",
            "Proper divisors of 216 are [1, 2, 3, 4, 6, 8, 9, 12, 18, 24, 27, 36, 54, 72, 108]\n",
            "Proper divisors of 217 are [1, 7, 31]\n",
            "Proper divisors of 218 are [1, 2, 109]\n",
            "Proper divisors of 219 are [1, 3, 73]\n",
            "Proper divisors of 220 are [1, 2, 4, 5, 10, 11, 20, 22, 44, 55, 110]\n",
            "Proper divisors of 221 are [1, 13, 17]\n",
            "Proper divisors of 222 are [1, 2, 3, 6, 37, 74, 111]\n",
            "Proper divisors of 223 are [1]\n",
            "Proper divisors of 224 are [1, 2, 4, 7, 8, 14, 16, 28, 32, 56, 112]\n",
            "Proper divisors of 225 are [1, 3, 5, 9, 15, 25, 45, 75]\n",
            "Proper divisors of 226 are [1, 2, 113]\n",
            "Proper divisors of 227 are [1]\n",
            "Proper divisors of 228 are [1, 2, 3, 4, 6, 12, 19, 38, 57, 76, 114]\n",
            "Proper divisors of 229 are [1]\n",
            "Proper divisors of 230 are [1, 2, 5, 10, 23, 46, 115]\n",
            "Proper divisors of 231 are [1, 3, 7, 11, 21, 33, 77]\n",
            "Proper divisors of 232 are [1, 2, 4, 8, 29, 58, 116]\n",
            "Proper divisors of 233 are [1]\n",
            "Proper divisors of 234 are [1, 2, 3, 6, 9, 13, 18, 26, 39, 78, 117]\n",
            "Proper divisors of 235 are [1, 5, 47]\n",
            "Proper divisors of 236 are [1, 2, 4, 59, 118]\n",
            "Proper divisors of 237 are [1, 3, 79]\n",
            "Proper divisors of 238 are [1, 2, 7, 14, 17, 34, 119]\n",
            "Proper divisors of 239 are [1]\n",
            "Proper divisors of 240 are [1, 2, 3, 4, 5, 6, 8, 10, 12, 15, 16, 20, 24, 30, 40, 48, 60, 80, 120]\n",
            "Proper divisors of 241 are [1]\n",
            "Proper divisors of 242 are [1, 2, 11, 22, 121]\n",
            "Proper divisors of 243 are [1, 3, 9, 27, 81]\n",
            "Proper divisors of 244 are [1, 2, 4, 61, 122]\n",
            "Proper divisors of 245 are [1, 5, 7, 35, 49]\n",
            "Proper divisors of 246 are [1, 2, 3, 6, 41, 82, 123]\n",
            "Proper divisors of 247 are [1, 13, 19]\n",
            "Proper divisors of 248 are [1, 2, 4, 8, 31, 62, 124]\n",
            "Proper divisors of 249 are [1, 3, 83]\n",
            "Proper divisors of 250 are [1, 2, 5, 10, 25, 50, 125]\n",
            "Proper divisors of 251 are [1]\n",
            "Proper divisors of 252 are [1, 2, 3, 4, 6, 7, 9, 12, 14, 18, 21, 28, 36, 42, 63, 84, 126]\n",
            "Proper divisors of 253 are [1, 11, 23]\n",
            "Proper divisors of 254 are [1, 2, 127]\n",
            "Proper divisors of 255 are [1, 3, 5, 15, 17, 51, 85]\n",
            "Proper divisors of 256 are [1, 2, 4, 8, 16, 32, 64, 128]\n",
            "Proper divisors of 257 are [1]\n",
            "Proper divisors of 258 are [1, 2, 3, 6, 43, 86, 129]\n",
            "Proper divisors of 259 are [1, 7, 37]\n",
            "Proper divisors of 260 are [1, 2, 4, 5, 10, 13, 20, 26, 52, 65, 130]\n",
            "Proper divisors of 261 are [1, 3, 9, 29, 87]\n",
            "Proper divisors of 262 are [1, 2, 131]\n",
            "Proper divisors of 263 are [1]\n",
            "Proper divisors of 264 are [1, 2, 3, 4, 6, 8, 11, 12, 22, 24, 33, 44, 66, 88, 132]\n",
            "Proper divisors of 265 are [1, 5, 53]\n",
            "Proper divisors of 266 are [1, 2, 7, 14, 19, 38, 133]\n",
            "Proper divisors of 267 are [1, 3, 89]\n",
            "Proper divisors of 268 are [1, 2, 4, 67, 134]\n",
            "Proper divisors of 269 are [1]\n",
            "Proper divisors of 270 are [1, 2, 3, 5, 6, 9, 10, 15, 18, 27, 30, 45, 54, 90, 135]\n",
            "Proper divisors of 271 are [1]\n",
            "Proper divisors of 272 are [1, 2, 4, 8, 16, 17, 34, 68, 136]\n",
            "Proper divisors of 273 are [1, 3, 7, 13, 21, 39, 91]\n",
            "Proper divisors of 274 are [1, 2, 137]\n",
            "Proper divisors of 275 are [1, 5, 11, 25, 55]\n",
            "Proper divisors of 276 are [1, 2, 3, 4, 6, 12, 23, 46, 69, 92, 138]\n",
            "Proper divisors of 277 are [1]\n",
            "Proper divisors of 278 are [1, 2, 139]\n",
            "Proper divisors of 279 are [1, 3, 9, 31, 93]\n",
            "Proper divisors of 280 are [1, 2, 4, 5, 7, 8, 10, 14, 20, 28, 35, 40, 56, 70, 140]\n",
            "Proper divisors of 281 are [1]\n",
            "Proper divisors of 282 are [1, 2, 3, 6, 47, 94, 141]\n",
            "Proper divisors of 283 are [1]\n",
            "Proper divisors of 284 are [1, 2, 4, 71, 142]\n",
            "Proper divisors of 285 are [1, 3, 5, 15, 19, 57, 95]\n",
            "Proper divisors of 286 are [1, 2, 11, 13, 22, 26, 143]\n",
            "Proper divisors of 287 are [1, 7, 41]\n",
            "Proper divisors of 288 are [1, 2, 3, 4, 6, 8, 9, 12, 16, 18, 24, 32, 36, 48, 72, 96, 144]\n",
            "Proper divisors of 289 are [1, 17]\n",
            "Proper divisors of 290 are [1, 2, 5, 10, 29, 58, 145]\n",
            "Proper divisors of 291 are [1, 3, 97]\n",
            "Proper divisors of 292 are [1, 2, 4, 73, 146]\n",
            "Proper divisors of 293 are [1]\n",
            "Proper divisors of 294 are [1, 2, 3, 6, 7, 14, 21, 42, 49, 98, 147]\n",
            "Proper divisors of 295 are [1, 5, 59]\n",
            "Proper divisors of 296 are [1, 2, 4, 8, 37, 74, 148]\n",
            "Proper divisors of 297 are [1, 3, 9, 11, 27, 33, 99]\n",
            "Proper divisors of 298 are [1, 2, 149]\n",
            "Proper divisors of 299 are [1, 13, 23]\n",
            "Proper divisors of 300 are [1, 2, 3, 4, 5, 6, 10, 12, 15, 20, 25, 30, 50, 60, 75, 100, 150]\n",
            "Proper divisors of 301 are [1, 7, 43]\n",
            "Proper divisors of 302 are [1, 2, 151]\n",
            "Proper divisors of 303 are [1, 3, 101]\n",
            "Proper divisors of 304 are [1, 2, 4, 8, 16, 19, 38, 76, 152]\n",
            "Proper divisors of 305 are [1, 5, 61]\n",
            "Proper divisors of 306 are [1, 2, 3, 6, 9, 17, 18, 34, 51, 102, 153]\n",
            "Proper divisors of 307 are [1]\n",
            "Proper divisors of 308 are [1, 2, 4, 7, 11, 14, 22, 28, 44, 77, 154]\n",
            "Proper divisors of 309 are [1, 3, 103]\n",
            "Proper divisors of 310 are [1, 2, 5, 10, 31, 62, 155]\n",
            "Proper divisors of 311 are [1]\n",
            "Proper divisors of 312 are [1, 2, 3, 4, 6, 8, 12, 13, 24, 26, 39, 52, 78, 104, 156]\n",
            "Proper divisors of 313 are [1]\n",
            "Proper divisors of 314 are [1, 2, 157]\n",
            "Proper divisors of 315 are [1, 3, 5, 7, 9, 15, 21, 35, 45, 63, 105]\n",
            "Proper divisors of 316 are [1, 2, 4, 79, 158]\n",
            "Proper divisors of 317 are [1]\n",
            "Proper divisors of 318 are [1, 2, 3, 6, 53, 106, 159]\n",
            "Proper divisors of 319 are [1, 11, 29]\n",
            "Proper divisors of 320 are [1, 2, 4, 5, 8, 10, 16, 20, 32, 40, 64, 80, 160]\n",
            "Proper divisors of 321 are [1, 3, 107]\n",
            "Proper divisors of 322 are [1, 2, 7, 14, 23, 46, 161]\n",
            "Proper divisors of 323 are [1, 17, 19]\n",
            "Proper divisors of 324 are [1, 2, 3, 4, 6, 9, 12, 18, 27, 36, 54, 81, 108, 162]\n",
            "Proper divisors of 325 are [1, 5, 13, 25, 65]\n",
            "Proper divisors of 326 are [1, 2, 163]\n",
            "Proper divisors of 327 are [1, 3, 109]\n",
            "Proper divisors of 328 are [1, 2, 4, 8, 41, 82, 164]\n",
            "Proper divisors of 329 are [1, 7, 47]\n",
            "Proper divisors of 330 are [1, 2, 3, 5, 6, 10, 11, 15, 22, 30, 33, 55, 66, 110, 165]\n",
            "Proper divisors of 331 are [1]\n",
            "Proper divisors of 332 are [1, 2, 4, 83, 166]\n",
            "Proper divisors of 333 are [1, 3, 9, 37, 111]\n",
            "Proper divisors of 334 are [1, 2, 167]\n",
            "Proper divisors of 335 are [1, 5, 67]\n",
            "Proper divisors of 336 are [1, 2, 3, 4, 6, 7, 8, 12, 14, 16, 21, 24, 28, 42, 48, 56, 84, 112, 168]\n",
            "Proper divisors of 337 are [1]\n",
            "Proper divisors of 338 are [1, 2, 13, 26, 169]\n",
            "Proper divisors of 339 are [1, 3, 113]\n",
            "Proper divisors of 340 are [1, 2, 4, 5, 10, 17, 20, 34, 68, 85, 170]\n",
            "Proper divisors of 341 are [1, 11, 31]\n",
            "Proper divisors of 342 are [1, 2, 3, 6, 9, 18, 19, 38, 57, 114, 171]\n",
            "Proper divisors of 343 are [1, 7, 49]\n",
            "Proper divisors of 344 are [1, 2, 4, 8, 43, 86, 172]\n",
            "Proper divisors of 345 are [1, 3, 5, 15, 23, 69, 115]\n",
            "Proper divisors of 346 are [1, 2, 173]\n",
            "Proper divisors of 347 are [1]\n",
            "Proper divisors of 348 are [1, 2, 3, 4, 6, 12, 29, 58, 87, 116, 174]\n",
            "Proper divisors of 349 are [1]\n",
            "Proper divisors of 350 are [1, 2, 5, 7, 10, 14, 25, 35, 50, 70, 175]\n",
            "Proper divisors of 351 are [1, 3, 9, 13, 27, 39, 117]\n",
            "Proper divisors of 352 are [1, 2, 4, 8, 11, 16, 22, 32, 44, 88, 176]\n",
            "Proper divisors of 353 are [1]\n",
            "Proper divisors of 354 are [1, 2, 3, 6, 59, 118, 177]\n",
            "Proper divisors of 355 are [1, 5, 71]\n",
            "Proper divisors of 356 are [1, 2, 4, 89, 178]\n",
            "Proper divisors of 357 are [1, 3, 7, 17, 21, 51, 119]\n",
            "Proper divisors of 358 are [1, 2, 179]\n",
            "Proper divisors of 359 are [1]\n",
            "Proper divisors of 360 are [1, 2, 3, 4, 5, 6, 8, 9, 10, 12, 15, 18, 20, 24, 30, 36, 40, 45, 60, 72, 90, 120, 180]\n",
            "Proper divisors of 361 are [1, 19]\n",
            "Proper divisors of 362 are [1, 2, 181]\n",
            "Proper divisors of 363 are [1, 3, 11, 33, 121]\n",
            "Proper divisors of 364 are [1, 2, 4, 7, 13, 14, 26, 28, 52, 91, 182]\n",
            "Proper divisors of 365 are [1, 5, 73]\n",
            "Proper divisors of 366 are [1, 2, 3, 6, 61, 122, 183]\n",
            "Proper divisors of 367 are [1]\n",
            "Proper divisors of 368 are [1, 2, 4, 8, 16, 23, 46, 92, 184]\n",
            "Proper divisors of 369 are [1, 3, 9, 41, 123]\n",
            "Proper divisors of 370 are [1, 2, 5, 10, 37, 74, 185]\n",
            "Proper divisors of 371 are [1, 7, 53]\n",
            "Proper divisors of 372 are [1, 2, 3, 4, 6, 12, 31, 62, 93, 124, 186]\n",
            "Proper divisors of 373 are [1]\n",
            "Proper divisors of 374 are [1, 2, 11, 17, 22, 34, 187]\n",
            "Proper divisors of 375 are [1, 3, 5, 15, 25, 75, 125]\n",
            "Proper divisors of 376 are [1, 2, 4, 8, 47, 94, 188]\n",
            "Proper divisors of 377 are [1, 13, 29]\n",
            "Proper divisors of 378 are [1, 2, 3, 6, 7, 9, 14, 18, 21, 27, 42, 54, 63, 126, 189]\n",
            "Proper divisors of 379 are [1]\n",
            "Proper divisors of 380 are [1, 2, 4, 5, 10, 19, 20, 38, 76, 95, 190]\n",
            "Proper divisors of 381 are [1, 3, 127]\n",
            "Proper divisors of 382 are [1, 2, 191]\n",
            "Proper divisors of 383 are [1]\n",
            "Proper divisors of 384 are [1, 2, 3, 4, 6, 8, 12, 16, 24, 32, 48, 64, 96, 128, 192]\n",
            "Proper divisors of 385 are [1, 5, 7, 11, 35, 55, 77]\n",
            "Proper divisors of 386 are [1, 2, 193]\n",
            "Proper divisors of 387 are [1, 3, 9, 43, 129]\n",
            "Proper divisors of 388 are [1, 2, 4, 97, 194]\n",
            "Proper divisors of 389 are [1]\n",
            "Proper divisors of 390 are [1, 2, 3, 5, 6, 10, 13, 15, 26, 30, 39, 65, 78, 130, 195]\n",
            "Proper divisors of 391 are [1, 17, 23]\n",
            "Proper divisors of 392 are [1, 2, 4, 7, 8, 14, 28, 49, 56, 98, 196]\n",
            "Proper divisors of 393 are [1, 3, 131]\n",
            "Proper divisors of 394 are [1, 2, 197]\n",
            "Proper divisors of 395 are [1, 5, 79]\n",
            "Proper divisors of 396 are [1, 2, 3, 4, 6, 9, 11, 12, 18, 22, 33, 36, 44, 66, 99, 132, 198]\n",
            "Proper divisors of 397 are [1]\n",
            "Proper divisors of 398 are [1, 2, 199]\n",
            "Proper divisors of 399 are [1, 3, 7, 19, 21, 57, 133]\n",
            "Proper divisors of 400 are [1, 2, 4, 5, 8, 10, 16, 20, 25, 40, 50, 80, 100, 200]\n",
            "Proper divisors of 401 are [1]\n",
            "Proper divisors of 402 are [1, 2, 3, 6, 67, 134, 201]\n",
            "Proper divisors of 403 are [1, 13, 31]\n",
            "Proper divisors of 404 are [1, 2, 4, 101, 202]\n",
            "Proper divisors of 405 are [1, 3, 5, 9, 15, 27, 45, 81, 135]\n",
            "Proper divisors of 406 are [1, 2, 7, 14, 29, 58, 203]\n",
            "Proper divisors of 407 are [1, 11, 37]\n",
            "Proper divisors of 408 are [1, 2, 3, 4, 6, 8, 12, 17, 24, 34, 51, 68, 102, 136, 204]\n",
            "Proper divisors of 409 are [1]\n",
            "Proper divisors of 410 are [1, 2, 5, 10, 41, 82, 205]\n",
            "Proper divisors of 411 are [1, 3, 137]\n",
            "Proper divisors of 412 are [1, 2, 4, 103, 206]\n",
            "Proper divisors of 413 are [1, 7, 59]\n",
            "Proper divisors of 414 are [1, 2, 3, 6, 9, 18, 23, 46, 69, 138, 207]\n",
            "Proper divisors of 415 are [1, 5, 83]\n",
            "Proper divisors of 416 are [1, 2, 4, 8, 13, 16, 26, 32, 52, 104, 208]\n",
            "Proper divisors of 417 are [1, 3, 139]\n",
            "Proper divisors of 418 are [1, 2, 11, 19, 22, 38, 209]\n",
            "Proper divisors of 419 are [1]\n",
            "Proper divisors of 420 are [1, 2, 3, 4, 5, 6, 7, 10, 12, 14, 15, 20, 21, 28, 30, 35, 42, 60, 70, 84, 105, 140, 210]\n",
            "Proper divisors of 421 are [1]\n",
            "Proper divisors of 422 are [1, 2, 211]\n",
            "Proper divisors of 423 are [1, 3, 9, 47, 141]\n",
            "Proper divisors of 424 are [1, 2, 4, 8, 53, 106, 212]\n",
            "Proper divisors of 425 are [1, 5, 17, 25, 85]\n",
            "Proper divisors of 426 are [1, 2, 3, 6, 71, 142, 213]\n",
            "Proper divisors of 427 are [1, 7, 61]\n",
            "Proper divisors of 428 are [1, 2, 4, 107, 214]\n",
            "Proper divisors of 429 are [1, 3, 11, 13, 33, 39, 143]\n",
            "Proper divisors of 430 are [1, 2, 5, 10, 43, 86, 215]\n",
            "Proper divisors of 431 are [1]\n",
            "Proper divisors of 432 are [1, 2, 3, 4, 6, 8, 9, 12, 16, 18, 24, 27, 36, 48, 54, 72, 108, 144, 216]\n",
            "Proper divisors of 433 are [1]\n",
            "Proper divisors of 434 are [1, 2, 7, 14, 31, 62, 217]\n",
            "Proper divisors of 435 are [1, 3, 5, 15, 29, 87, 145]\n",
            "Proper divisors of 436 are [1, 2, 4, 109, 218]\n",
            "Proper divisors of 437 are [1, 19, 23]\n",
            "Proper divisors of 438 are [1, 2, 3, 6, 73, 146, 219]\n",
            "Proper divisors of 439 are [1]\n",
            "Proper divisors of 440 are [1, 2, 4, 5, 8, 10, 11, 20, 22, 40, 44, 55, 88, 110, 220]\n",
            "Proper divisors of 441 are [1, 3, 7, 9, 21, 49, 63, 147]\n",
            "Proper divisors of 442 are [1, 2, 13, 17, 26, 34, 221]\n",
            "Proper divisors of 443 are [1]\n",
            "Proper divisors of 444 are [1, 2, 3, 4, 6, 12, 37, 74, 111, 148, 222]\n",
            "Proper divisors of 445 are [1, 5, 89]\n",
            "Proper divisors of 446 are [1, 2, 223]\n",
            "Proper divisors of 447 are [1, 3, 149]\n",
            "Proper divisors of 448 are [1, 2, 4, 7, 8, 14, 16, 28, 32, 56, 64, 112, 224]\n",
            "Proper divisors of 449 are [1]\n",
            "Proper divisors of 450 are [1, 2, 3, 5, 6, 9, 10, 15, 18, 25, 30, 45, 50, 75, 90, 150, 225]\n",
            "Proper divisors of 451 are [1, 11, 41]\n",
            "Proper divisors of 452 are [1, 2, 4, 113, 226]\n",
            "Proper divisors of 453 are [1, 3, 151]\n",
            "Proper divisors of 454 are [1, 2, 227]\n",
            "Proper divisors of 455 are [1, 5, 7, 13, 35, 65, 91]\n",
            "Proper divisors of 456 are [1, 2, 3, 4, 6, 8, 12, 19, 24, 38, 57, 76, 114, 152, 228]\n",
            "Proper divisors of 457 are [1]\n",
            "Proper divisors of 458 are [1, 2, 229]\n",
            "Proper divisors of 459 are [1, 3, 9, 17, 27, 51, 153]\n",
            "Proper divisors of 460 are [1, 2, 4, 5, 10, 20, 23, 46, 92, 115, 230]\n",
            "Proper divisors of 461 are [1]\n",
            "Proper divisors of 462 are [1, 2, 3, 6, 7, 11, 14, 21, 22, 33, 42, 66, 77, 154, 231]\n",
            "Proper divisors of 463 are [1]\n",
            "Proper divisors of 464 are [1, 2, 4, 8, 16, 29, 58, 116, 232]\n",
            "Proper divisors of 465 are [1, 3, 5, 15, 31, 93, 155]\n",
            "Proper divisors of 466 are [1, 2, 233]\n",
            "Proper divisors of 467 are [1]\n",
            "Proper divisors of 468 are [1, 2, 3, 4, 6, 9, 12, 13, 18, 26, 36, 39, 52, 78, 117, 156, 234]\n",
            "Proper divisors of 469 are [1, 7, 67]\n",
            "Proper divisors of 470 are [1, 2, 5, 10, 47, 94, 235]\n",
            "Proper divisors of 471 are [1, 3, 157]\n",
            "Proper divisors of 472 are [1, 2, 4, 8, 59, 118, 236]\n",
            "Proper divisors of 473 are [1, 11, 43]\n",
            "Proper divisors of 474 are [1, 2, 3, 6, 79, 158, 237]\n",
            "Proper divisors of 475 are [1, 5, 19, 25, 95]\n",
            "Proper divisors of 476 are [1, 2, 4, 7, 14, 17, 28, 34, 68, 119, 238]\n",
            "Proper divisors of 477 are [1, 3, 9, 53, 159]\n",
            "Proper divisors of 478 are [1, 2, 239]\n",
            "Proper divisors of 479 are [1]\n",
            "Proper divisors of 480 are [1, 2, 3, 4, 5, 6, 8, 10, 12, 15, 16, 20, 24, 30, 32, 40, 48, 60, 80, 96, 120, 160, 240]\n",
            "Proper divisors of 481 are [1, 13, 37]\n",
            "Proper divisors of 482 are [1, 2, 241]\n",
            "Proper divisors of 483 are [1, 3, 7, 21, 23, 69, 161]\n",
            "Proper divisors of 484 are [1, 2, 4, 11, 22, 44, 121, 242]\n",
            "Proper divisors of 485 are [1, 5, 97]\n",
            "Proper divisors of 486 are [1, 2, 3, 6, 9, 18, 27, 54, 81, 162, 243]\n",
            "Proper divisors of 487 are [1]\n",
            "Proper divisors of 488 are [1, 2, 4, 8, 61, 122, 244]\n",
            "Proper divisors of 489 are [1, 3, 163]\n",
            "Proper divisors of 490 are [1, 2, 5, 7, 10, 14, 35, 49, 70, 98, 245]\n",
            "Proper divisors of 491 are [1]\n",
            "Proper divisors of 492 are [1, 2, 3, 4, 6, 12, 41, 82, 123, 164, 246]\n",
            "Proper divisors of 493 are [1, 17, 29]\n",
            "Proper divisors of 494 are [1, 2, 13, 19, 26, 38, 247]\n",
            "Proper divisors of 495 are [1, 3, 5, 9, 11, 15, 33, 45, 55, 99, 165]\n",
            "Proper divisors of 496 are [1, 2, 4, 8, 16, 31, 62, 124, 248]\n",
            "Proper divisors of 497 are [1, 7, 71]\n",
            "Proper divisors of 498 are [1, 2, 3, 6, 83, 166, 249]\n",
            "Proper divisors of 499 are [1]\n",
            "Perfect number in range of 500 are [0, 6, 28, 496]\n"
          ],
          "name": "stdout"
        }
      ]
    },
    {
      "cell_type": "markdown",
      "metadata": {
        "id": "s2kNvMBkBAWi",
        "colab_type": "text"
      },
      "source": [
        "11.Two different numbers are called amicable numbers if the sum of the proper divisors of each is equal to the other number. For example 220 and 284 are amicable numbers."
      ]
    },
    {
      "cell_type": "code",
      "metadata": {
        "id": "IJqUrhGB_GVi",
        "colab_type": "code",
        "outputId": "dc6f2bdd-6fb1-4617-b8db-3f9cb8c47121",
        "colab": {
          "base_uri": "https://localhost:8080/",
          "height": 90
        }
      },
      "source": [
        "def amicable_num(n,m):\n",
        "  num1=sumPdivisors(n)\n",
        "  num2=sumPdivisors(m)\n",
        "  if num1==m and num2==n:\n",
        "    print(\"{} and {} is amicable numbers\".format(n,m))\n",
        "n,m=input(\"Enter two different numbers:\").split(' ')\n",
        "n=int(n)\n",
        "m=int(m)\n",
        "amicable_num(n,m)\n"
      ],
      "execution_count": 0,
      "outputs": [
        {
          "output_type": "stream",
          "text": [
            "Enter two different numbers:220 284\n",
            "Proper divisors of 220 are [1, 2, 4, 5, 10, 11, 20, 22, 44, 55, 110]\n",
            "Proper divisors of 284 are [1, 2, 4, 71, 142]\n",
            "220 and 284 is amicable numbers\n"
          ],
          "name": "stdout"
        }
      ]
    },
    {
      "cell_type": "markdown",
      "metadata": {
        "id": "1lVSsC1qBNis",
        "colab_type": "text"
      },
      "source": [
        "12.Write a program which can filter odd numbers in a list by using filter function"
      ]
    },
    {
      "cell_type": "code",
      "metadata": {
        "id": "87tNsI5lBT-t",
        "colab_type": "code",
        "outputId": "014bcee3-ba39-41ff-8eeb-f9d198b0e8ab",
        "colab": {
          "base_uri": "https://localhost:8080/",
          "height": 35
        }
      },
      "source": [
        "lst=[1,2,3,4,5,6,7,8,9]\n",
        "odd_num = filter(lambda x: x % 2 != 0, lst) \n",
        "print(list(odd_num)) "
      ],
      "execution_count": 0,
      "outputs": [
        {
          "output_type": "stream",
          "text": [
            "[1, 3, 5, 7, 9]\n"
          ],
          "name": "stdout"
        }
      ]
    },
    {
      "cell_type": "markdown",
      "metadata": {
        "id": "pxT7ZjuVBU56",
        "colab_type": "text"
      },
      "source": [
        "13.Write a program which can map() to make a list whose elements are cube of elements in a given list"
      ]
    },
    {
      "cell_type": "code",
      "metadata": {
        "id": "idfSNO0IBbbz",
        "colab_type": "code",
        "outputId": "1dc3b54c-392e-4fcd-8995-251969b5f115",
        "colab": {
          "base_uri": "https://localhost:8080/",
          "height": 35
        }
      },
      "source": [
        "def cube(n):\n",
        "  return n*n*n\n",
        "lst = [1, 2, 3, 4, 5, 6, 7, 8, 9] \n",
        "cube_ele = map(cube, lst) \n",
        "print(list(cube_ele)) "
      ],
      "execution_count": 0,
      "outputs": [
        {
          "output_type": "stream",
          "text": [
            "[1, 8, 27, 64, 125, 216, 343, 512, 729]\n"
          ],
          "name": "stdout"
        }
      ]
    },
    {
      "cell_type": "markdown",
      "metadata": {
        "id": "HI9TP3FqBcNY",
        "colab_type": "text"
      },
      "source": [
        "14.Write a program which can map() and filter() to make a list whose elements are cube of even number in a given list"
      ]
    },
    {
      "cell_type": "code",
      "metadata": {
        "id": "PacWFkV8BgLq",
        "colab_type": "code",
        "outputId": "ad34ada1-8f8f-4f2e-9040-039368768abb",
        "colab": {
          "base_uri": "https://localhost:8080/",
          "height": 54
        }
      },
      "source": [
        "even_num=list(filter(lambda x: x % 2 == 0, lst))\n",
        "print(\"Even Numbers are:\",even_num)\n",
        "cube_of_even=list(map(cube,even_num))\n",
        "print(\"Cube of Even Numbers are:\",cube_of_even)\n",
        "\n"
      ],
      "execution_count": 0,
      "outputs": [
        {
          "output_type": "stream",
          "text": [
            "Even Numbers are: [2, 4, 6, 8]\n",
            "Cube of Even Numbers are: [8, 64, 216, 512]\n"
          ],
          "name": "stdout"
        }
      ]
    },
    {
      "cell_type": "code",
      "metadata": {
        "id": "68GcFn2RIbch",
        "colab_type": "code",
        "colab": {}
      },
      "source": [
        ""
      ],
      "execution_count": 0,
      "outputs": []
    }
  ]
}